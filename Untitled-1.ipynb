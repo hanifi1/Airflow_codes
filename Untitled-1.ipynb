{
 "cells": [
  {
   "cell_type": "code",
   "execution_count": 1,
   "id": "c5b3ddfc",
   "metadata": {},
   "outputs": [],
   "source": [
    "import pandas as pd\n",
    "import sys"
   ]
  },
  {
   "cell_type": "code",
   "execution_count": 2,
   "id": "3c621845",
   "metadata": {},
   "outputs": [],
   "source": [
    "input_path = \"./staging/tollplaza-data.tsv\""
   ]
  },
  {
   "cell_type": "code",
   "execution_count": 4,
   "id": "663f5d9d",
   "metadata": {},
   "outputs": [
    {
     "data": {
      "text/html": [
       "<div>\n",
       "<style scoped>\n",
       "    .dataframe tbody tr th:only-of-type {\n",
       "        vertical-align: middle;\n",
       "    }\n",
       "\n",
       "    .dataframe tbody tr th {\n",
       "        vertical-align: top;\n",
       "    }\n",
       "\n",
       "    .dataframe thead th {\n",
       "        text-align: right;\n",
       "    }\n",
       "</style>\n",
       "<table border=\"1\" class=\"dataframe\">\n",
       "  <thead>\n",
       "    <tr style=\"text-align: right;\">\n",
       "      <th></th>\n",
       "      <th>car_id</th>\n",
       "      <th>timestamp</th>\n",
       "      <th>tollplaza_id</th>\n",
       "      <th>vihecle_type</th>\n",
       "      <th>Number of axles</th>\n",
       "      <th>Tollplaza id</th>\n",
       "      <th>Tollplaza code</th>\n",
       "    </tr>\n",
       "  </thead>\n",
       "  <tbody>\n",
       "    <tr>\n",
       "      <th>0</th>\n",
       "      <td>1</td>\n",
       "      <td>Thu Aug 19 21:54:38 2021</td>\n",
       "      <td>125094</td>\n",
       "      <td>car</td>\n",
       "      <td>2</td>\n",
       "      <td>4856</td>\n",
       "      <td>PC7C042B7</td>\n",
       "    </tr>\n",
       "    <tr>\n",
       "      <th>1</th>\n",
       "      <td>2</td>\n",
       "      <td>Sat Jul 31 04:09:44 2021</td>\n",
       "      <td>174434</td>\n",
       "      <td>car</td>\n",
       "      <td>2</td>\n",
       "      <td>4154</td>\n",
       "      <td>PC2C2EF9E</td>\n",
       "    </tr>\n",
       "    <tr>\n",
       "      <th>2</th>\n",
       "      <td>3</td>\n",
       "      <td>Sat Aug 14 17:19:04 2021</td>\n",
       "      <td>8538286</td>\n",
       "      <td>car</td>\n",
       "      <td>2</td>\n",
       "      <td>4070</td>\n",
       "      <td>PCEECA8B2</td>\n",
       "    </tr>\n",
       "    <tr>\n",
       "      <th>3</th>\n",
       "      <td>4</td>\n",
       "      <td>Mon Aug  2 18:23:45 2021</td>\n",
       "      <td>5521221</td>\n",
       "      <td>car</td>\n",
       "      <td>2</td>\n",
       "      <td>4095</td>\n",
       "      <td>PC3E1512A</td>\n",
       "    </tr>\n",
       "    <tr>\n",
       "      <th>4</th>\n",
       "      <td>5</td>\n",
       "      <td>Thu Jul 29 22:44:20 2021</td>\n",
       "      <td>3267767</td>\n",
       "      <td>car</td>\n",
       "      <td>2</td>\n",
       "      <td>4135</td>\n",
       "      <td>PCC943ECD</td>\n",
       "    </tr>\n",
       "  </tbody>\n",
       "</table>\n",
       "</div>"
      ],
      "text/plain": [
       "   car_id                 timestamp  tollplaza_id vihecle_type  \\\n",
       "0       1  Thu Aug 19 21:54:38 2021        125094          car   \n",
       "1       2  Sat Jul 31 04:09:44 2021        174434          car   \n",
       "2       3  Sat Aug 14 17:19:04 2021       8538286          car   \n",
       "3       4  Mon Aug  2 18:23:45 2021       5521221          car   \n",
       "4       5  Thu Jul 29 22:44:20 2021       3267767          car   \n",
       "\n",
       "   Number of axles  Tollplaza id Tollplaza code  \n",
       "0                2          4856      PC7C042B7  \n",
       "1                2          4154      PC2C2EF9E  \n",
       "2                2          4070      PCEECA8B2  \n",
       "3                2          4095      PC3E1512A  \n",
       "4                2          4135      PCC943ECD  "
      ]
     },
     "execution_count": 4,
     "metadata": {},
     "output_type": "execute_result"
    }
   ],
   "source": [
    "df = pd.read_csv(input_path, sep='\\t', header=None)\n",
    "df.columns = ['car_id', 'timestamp', 'tollplaza_id', 'vihecle_type', 'Number of axles', 'Tollplaza id',  'Tollplaza code']\n",
    "df.head()"
   ]
  },
  {
   "cell_type": "code",
   "execution_count": null,
   "id": "7dd85ba2",
   "metadata": {},
   "outputs": [],
   "source": []
  }
 ],
 "metadata": {
  "kernelspec": {
   "display_name": "base",
   "language": "python",
   "name": "python3"
  },
  "language_info": {
   "codemirror_mode": {
    "name": "ipython",
    "version": 3
   },
   "file_extension": ".py",
   "mimetype": "text/x-python",
   "name": "python",
   "nbconvert_exporter": "python",
   "pygments_lexer": "ipython3",
   "version": "3.12.7"
  }
 },
 "nbformat": 4,
 "nbformat_minor": 5
}
